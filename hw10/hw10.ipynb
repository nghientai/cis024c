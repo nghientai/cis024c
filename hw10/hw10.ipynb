{
 "cells": [
  {
   "cell_type": "markdown",
   "metadata": {},
   "source": [
    "\n",
    "# CIS024C - Fall 2017 - Thursday 5:30-9:25pm \n",
    "\n",
    "## Homework 10\n",
    "\n",
    "Homework 10 covers object oriented programming in Python\n",
    "\n",
    "The below sites have some interesting and useful information on working with files\n",
    "\n",
    "https://drive.google.com/open?id=1OrcpXEmhvgcJxSlchIBsvmXST0lG_uKx\n",
    "http://www.tutorialspoint.com/python/python_classes_objects.htm\n",
    "\n",
    "You will need to download this notebook and use this as a starting point for your homework. You will just need to fill in the content of each code-block (cell) and execute. Once you have completed all the exercises, you will need to save and upload this to your github repository under a folder called hw10.\n",
    "\n",
    "Note also the exercises build on top of one another so you might be able to do the next exercise if you have not completed the previous exercise.\n",
    "\n",
    "Post any questions you have on our Slack at **cis-024c1.slack.com**\n",
    "\n",
    "** Slides ** for Week 10 can be found at \n",
    "\n",
    "https://docs.google.com/presentation/d/1AigvCKV1yb3PrrcT5xt3IqyAwGpv6IKMNWYUiQ2Oy6k/edit?usp=sharing\n",
    "\n",
    "**Please refer back to hw1 and slack for instructions on how to setup your computer for developing using Python.**"
   ]
  },
  {
   "cell_type": "markdown",
   "metadata": {},
   "source": [
    "### Helpful Jupyter Commands\n",
    "\n",
    "Below are some useful commands to know when using Jupyter\n",
    "\n",
    "1. You can add a new cell by clicking on the \"+\" icon on top.\n",
    "2. You can delete a cell by selecting that cell and clicking on the \"scissors\" icon on top.\n",
    "3. You can execute a cell by either pressing shift+enter or selecting the \"play\" button on top.\n",
    "4. You can create a new file in Jupyter via the File menu->New Notebook option. Make sure to select Python 2 when creating your notebook.\n",
    "5. Also, for your code blocks make sure that Code is selected instead of another option like Markdown.\n",
    "6. Use the Enter key to go to the next line in a cell to enter the next statement.\n",
    "7. You can clear results by clicking on the Cell menu item and selecting Current Output->Clear or All Output->Clear depending on whether you are trying to just clear the output for one cell or for all cells.\n",
    "8. In case your program has crashed for some reason (infinite loop, for example), you can restart your Python session by select Kernel in the menu and selecting Restart.\n"
   ]
  },
  {
   "cell_type": "markdown",
   "metadata": {},
   "source": [
    "#### Check Python Version"
   ]
  },
  {
   "cell_type": "code",
   "execution_count": 1,
   "metadata": {},
   "outputs": [
    {
     "name": "stderr",
     "output_type": "stream",
     "text": [
      "Python 2.7.13 :: Anaconda, Inc.\n"
     ]
    }
   ],
   "source": [
    "!python --version"
   ]
  },
  {
   "cell_type": "markdown",
   "metadata": {},
   "source": [
    "#### Sample Exercises with Exception Handling\n",
    "\n",
    "Week 10 Class Work can be found here\n",
    "\n",
    "https://github.com/cis024c/fall2017classwork/blob/master/week10/week10_classwork.ipynb"
   ]
  },
  {
   "cell_type": "markdown",
   "metadata": {},
   "source": [
    "**Exercise 1 - Testing your knowledge of object oriented programming concepts **\n",
    "\n",
    "Answer the below questions\n",
    "\n",
    "1. Why do we need classes?\n",
    "\n",
    "A class lets us structure a software in a particular way. Using classes, you can add consistency to your programs so that they can be used in a cleaner way.\n",
    "\n",
    "2. What is encapsulation?\n",
    "\n",
    "In an object oriented python program, you can restrict access to methods and variables. This can prevent the data from being modified by accident and is known as encapsulation. "
   ]
  },
  {
   "cell_type": "markdown",
   "metadata": {},
   "source": []
  },
  {
   "cell_type": "markdown",
   "metadata": {},
   "source": [
    "** Exercise 2 - Class creation **\n",
    "\n",
    "Create a Python class named **Employee** with the following attributes and methods\n",
    "\n",
    "Data members\n",
    "```\n",
    "1. employeeName  - type string\n",
    "2. employeeAge  - type int\n",
    "3. employeeSalary - type float\n",
    "```\n",
    "\n",
    "Methods:\n",
    "```\n",
    "1. getEmployee - returns employee name\n",
    "2. getEmployeeAge - gets the employee age\n",
    "3. getEmployeeSalary - returns the employee salary\n",
    "4. __init__ - initialize method accepts the name, age and salary of the employee\n",
    "```\n",
    "\n",
    "Create an object of type Employee and initialize with arbitrary values. Invoke the get methods and display the result."
   ]
  },
  {
   "cell_type": "code",
   "execution_count": 12,
   "metadata": {},
   "outputs": [
    {
     "name": "stdout",
     "output_type": "stream",
     "text": [
      "Hoang Nguyen\n",
      "32\n",
      "100000.0\n"
     ]
    }
   ],
   "source": [
    "class Employees:\n",
    "    employeeName= \"\"\n",
    "    employeeAge = 0\n",
    "    employeeSalaray = 000.000\n",
    "    \n",
    "    def __init__(self):\n",
    "        self.employeeName = \"Hoang Nguyen\"\n",
    "        self.employeeAge = 32\n",
    "        self.employeeSalaray = 100000 \n",
    "    \n",
    "    def getEmployee(self):\n",
    "        return self.employeeName\n",
    "    \n",
    "    def getEmployeeAge(self):\n",
    "        return self.employeeAge\n",
    "    \n",
    "    def getEmployeeSalary(self):\n",
    "        return float(self.employeeSalaray)\n",
    "    \n",
    "\n",
    "employee = Employees()\n",
    "print employee.getEmployee()\n",
    "print employee.getEmployeeAge()\n",
    "print employee.getEmployeeSalary()\n",
    "    \n",
    "    \n",
    "    "
   ]
  },
  {
   "cell_type": "markdown",
   "metadata": {},
   "source": [
    "#### Exercise 3 - Private members\n",
    "\n",
    "In the above **Employee** class make the employeeName, employeeAge and employeeSalary private so that their access is restricted to only within the class."
   ]
  },
  {
   "cell_type": "code",
   "execution_count": 20,
   "metadata": {},
   "outputs": [
    {
     "ename": "AttributeError",
     "evalue": "Employees instance has no attribute '__employeeAge'",
     "output_type": "error",
     "traceback": [
      "\u001b[1;31m---------------------------------------------------------------------------\u001b[0m",
      "\u001b[1;31mAttributeError\u001b[0m                            Traceback (most recent call last)",
      "\u001b[1;32m<ipython-input-20-66d4a224bd17>\u001b[0m in \u001b[0;36m<module>\u001b[1;34m()\u001b[0m\n\u001b[0;32m     20\u001b[0m \u001b[1;33m\u001b[0m\u001b[0m\n\u001b[0;32m     21\u001b[0m \u001b[0memployee\u001b[0m \u001b[1;33m=\u001b[0m \u001b[0mEmployees\u001b[0m\u001b[1;33m(\u001b[0m\u001b[1;33m)\u001b[0m\u001b[1;33m\u001b[0m\u001b[0m\n\u001b[1;32m---> 22\u001b[1;33m \u001b[1;32mprint\u001b[0m \u001b[0memployee\u001b[0m\u001b[1;33m.\u001b[0m\u001b[0m__employeeAge\u001b[0m\u001b[1;33m\u001b[0m\u001b[0m\n\u001b[0m\u001b[0;32m     23\u001b[0m \u001b[1;33m\u001b[0m\u001b[0m\n\u001b[0;32m     24\u001b[0m \u001b[1;33m\u001b[0m\u001b[0m\n",
      "\u001b[1;31mAttributeError\u001b[0m: Employees instance has no attribute '__employeeAge'"
     ]
    }
   ],
   "source": [
    "class Employees:\n",
    "    __employeeName= \"\"\n",
    "    __employeeAge = 0\n",
    "    __employeeSalaray = 000.000\n",
    "    \n",
    "    def __init__(self):\n",
    "        self.employeeName = \"Hoang Nguyen\"\n",
    "        self.employeeAge = 32\n",
    "        self.employeeSalaray = 100000 \n",
    "    \n",
    "    def getEmployee(self):\n",
    "        return self.employeeName\n",
    "    \n",
    "    def getEmployeeAge(self):\n",
    "        return self.employeeAge\n",
    "    \n",
    "    def getEmployeeSalary(self):\n",
    "        return float(self.employeeSalaray)\n",
    "    \n",
    "\n",
    "employee = Employees()\n",
    "print employee.__employeeAge\n",
    " \n",
    "    "
   ]
  },
  {
   "cell_type": "markdown",
   "metadata": {},
   "source": [
    "#### Exercise 4 - Adding setters and working with a list of Employees\n",
    "\n",
    "In the **Employee** class add the following methods\n",
    "\n",
    "```\n",
    "1. setEmployeeAge - accepts age and sets it in the object\n",
    "2. setEmployeeName - accepts employee name and sets it in the object\n",
    "3. setEmployeeSalary - accepts employee salary and sets it i nthe object\n",
    "```\n",
    "\n",
    "Create a list of employees called employeeList. Initialize the list with three objects of type Employee. Initialize the object with the values \"None\" for employeeName, 0 for employeeAge and 0 for employeeSalary.\n",
    "\n",
    "Loop  through each employee in the employeeList. Each time, request the user to enter the name, age and salary of a different employee. Use the set methods to set the name, age and salary for each employee in the employeeList.\n",
    "\n",
    "Loop through each employee in the employeeList. Display the name, age and salary of each employee."
   ]
  },
  {
   "cell_type": "code",
   "execution_count": 64,
   "metadata": {},
   "outputs": [
    {
     "name": "stdout",
     "output_type": "stream",
     "text": [
      "Enter employee name: Marry\n",
      "Enter employee age: 32\n",
      "Enter employee salary: 400000\n",
      "Enter employee name: Harry\n",
      "Enter employee age: 23\n",
      "Enter employee salary: 50000\n",
      "Enter employee name: Cooler\n",
      "Enter employee age: 45\n",
      "Enter employee salary: 600000\n",
      "*****List of Employee entered:******\n",
      "Marry\n",
      "32\n",
      "400000.0\n",
      "==================================\n",
      "*****List of Employee entered:******\n",
      "Harry\n",
      "23\n",
      "50000.0\n",
      "==================================\n",
      "*****List of Employee entered:******\n",
      "Cooler\n",
      "45\n",
      "600000.0\n",
      "==================================\n"
     ]
    }
   ],
   "source": [
    "class Employees(object):\n",
    "    __employeeName= \"\"\n",
    "    __employeeAge = 0\n",
    "    __employeeSalaray = 0\n",
    "    \n",
    "    def __init__(self,name,age,salary):\n",
    "        self.__employeeName = name\n",
    "        self.__employeeAge = age\n",
    "        self.__employeeSalaray = salary\n",
    "    \n",
    "    def setEmployee(self,employeeName):\n",
    "        self.__employeeName = employeeName\n",
    "        \n",
    "    def getEmployee(self):\n",
    "        return self.__employeeName\n",
    "    \n",
    "    def setEmployeeAge(self,empAge):\n",
    "        self.__employeeAge = empAge\n",
    "    \n",
    "    def getEmployeeAge(self):\n",
    "        return self.__employeeAge\n",
    "    \n",
    "    def setEmployeeSalary(self,empSalary):\n",
    "        self.__employeeSalaray = empSalary\n",
    "    \n",
    "    def getEmployeeSalary(self):\n",
    "        return float(self.__employeeSalaray)\n",
    "    \n",
    "emp1 = Employees(\"None\",0,0)\n",
    "emp2 = Employees(\"None\",0,0)\n",
    "emp3 = Employees(\"None\",0,0)\n",
    "    \n",
    "employeeList = [emp1,emp2,emp3]\n",
    "\n",
    "for i in range(len(employeeList)):\n",
    "    name = raw_input(\"Enter employee name: \")\n",
    "    age = raw_input(\"Enter employee age: \")\n",
    "    salary = raw_input(\"Enter employee salary: \")\n",
    "    employeeList[i].setEmployee(name)\n",
    "    employeeList[i].setEmployeeAge(age)\n",
    "    employeeList[i].setEmployeeSalary(salary)\n",
    "    \n",
    "for j in range(len(employeeList)):\n",
    "    print \"*****List of Employee entered:******\"\n",
    "    print employeeList[j].getEmployee()\n",
    "    print employeeList[j].getEmployeeAge()\n",
    "    print employeeList[j].getEmployeeSalary()\n",
    "    print \"==================================\""
   ]
  },
  {
   "cell_type": "markdown",
   "metadata": {},
   "source": [
    "#### Exercise 5 -  Creating a Python calculator class\n",
    "\n",
    "Create a Python class called Calculator. \n",
    "\n",
    "The class has the following data members\n",
    "\n",
    "```\n",
    "1. number1 - type float\n",
    "2. number2 - type float\n",
    "```\n",
    "\n",
    "The class must have the below methods\n",
    "\n",
    "```\n",
    "1. add - adds two numbers and returns the result\n",
    "2. subtract - subtracts the first number from the second number and returns the result\n",
    "3. multiply - multiply two numbers and returns the result\n",
    "4. divide - divide the first number by the second number and returns the result\n",
    "5. __init__ - accepts two numbers and uses those numbers to initialize number1 and number2 respectively\n",
    "```\n",
    "\n",
    "Create an object of the Calculator class. Initialize it with any two arbitrary numbers. Invoke the methods add, subtract, multiple and divide and display the result\n",
    "\n",
    "\n"
   ]
  },
  {
   "cell_type": "code",
   "execution_count": 40,
   "metadata": {},
   "outputs": [
    {
     "name": "stdout",
     "output_type": "stream",
     "text": [
      "<type 'float'>\n",
      "6.7\n",
      "1.7\n",
      "10.5\n",
      "1.68\n"
     ]
    }
   ],
   "source": [
    "class Calculator:\n",
    "    number1 = 0\n",
    "    number2 = 0\n",
    "    \n",
    "    def __init__(self,n1,n2):\n",
    "        self.number1 = n1\n",
    "        self.number2 = n2\n",
    "        #print type(self.number1)\n",
    "    \n",
    "    def add(self):\n",
    "        return self.number1 + self.number2\n",
    "    \n",
    "    def subtract(self):\n",
    "        return self.number1 - self.number2\n",
    "    \n",
    "    def multiply(self):\n",
    "        return self.number1 * self.number2\n",
    "    \n",
    "    def divide(self):\n",
    "        return self.number1 / self.number2\n",
    "    \n",
    "cal = Calculator(4.2,2.5)\n",
    "print cal.add()\n",
    "print cal.subtract()\n",
    "print cal.multiply()\n",
    "print cal.divide()\n",
    "\n",
    "    \n",
    "    "
   ]
  }
 ],
 "metadata": {
  "kernelspec": {
   "display_name": "Python 2",
   "language": "python",
   "name": "python2"
  },
  "language_info": {
   "codemirror_mode": {
    "name": "ipython",
    "version": 2
   },
   "file_extension": ".py",
   "mimetype": "text/x-python",
   "name": "python",
   "nbconvert_exporter": "python",
   "pygments_lexer": "ipython2",
   "version": "2.7.13"
  }
 },
 "nbformat": 4,
 "nbformat_minor": 2
}
